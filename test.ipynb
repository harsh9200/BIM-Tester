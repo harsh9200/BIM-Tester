{
 "metadata": {
  "language_info": {
   "codemirror_mode": {
    "name": "ipython",
    "version": 3
   },
   "file_extension": ".py",
   "mimetype": "text/x-python",
   "name": "python",
   "nbconvert_exporter": "python",
   "pygments_lexer": "ipython3",
   "version": "3.7.6-final"
  },
  "orig_nbformat": 2,
  "kernelspec": {
   "name": "python3",
   "display_name": "Python 3.7.6 64-bit (conda)",
   "metadata": {
    "interpreter": {
     "hash": "7425a7df61822c0cae05908b380102d6b9d2a55c8967f88617b96de6240e25ff"
    }
   }
  }
 },
 "nbformat": 4,
 "nbformat_minor": 2,
 "cells": [
  {
   "cell_type": "code",
   "execution_count": 31,
   "metadata": {},
   "outputs": [],
   "source": [
    "import re\n",
    "import inspect\n",
    "from collections import defaultdict"
   ]
  },
  {
   "cell_type": "code",
   "execution_count": 195,
   "metadata": {},
   "outputs": [],
   "source": [
    "class ProjectSetup:\n",
    "    def schema(self):\n",
    "        '''\n",
    "        Scenario: Receiving a file\n",
    "\n",
    "        The data must use the \"{schema}\" schema\n",
    "        \n",
    "        Example: \n",
    "            The data must use the \"IFC4\" schema\n",
    "        \n",
    "        Description: \n",
    "            BIM data may be structured using a particular version of IFC, \n",
    "            known as the \"schema\" version. Newer versions add lots of capabilities like \n",
    "            extra parameters, new data relationships, and improved data classification. \n",
    "            The version you choose will affect what data can be stored, and which programs\n",
    "            have support for reading and writing that version. At the moment, you are\n",
    "            likely to specify either \"IFC2X3\" or \"IFC4\".\n",
    "        '''\n",
    "        pass\n",
    "\n",
    "    def file_name(self):\n",
    "        '''\n",
    "        Scenario: Exempt files\n",
    "\n",
    "        The IFC file \"{file}\" is exempt from being provided\n",
    "        \n",
    "        Example: \n",
    "            The IFC file \"PROJECT.ifc\" is exempt from being provided\n",
    "        \n",
    "        Description: \n",
    "            Sometimes, projects may create BIM data that is purely temporary, or as a workaround\n",
    "            that is needed as part of their workflow, but not required from a contractual \n",
    "            perspective. In this case, it is advisable for the requirements to explicitly exclude\n",
    "            these BIM files so that the client knows what is included in the scope of requirements.\n",
    "            Simply specify the name of the file that you know is not required as a deliverable.\n",
    "        '''\n",
    "        pass\n",
    "\n",
    "    def reason(self):\n",
    "        '''\n",
    "        Scenario: Exempt files\n",
    "\n",
    "        No further requirements are specified because \"{reason}\"\n",
    "        \n",
    "        Example: \n",
    "            No further requirements are specified because \"it will be superseded in a\n",
    "            future project phase\"\n",
    "        \n",
    "        Description: \n",
    "            The recipient may not necessarily wish to specify more BIM requirements to audit.\n",
    "            Scenarios\n",
    "            when this is the case may be when the recipient does not have processes in place to use\n",
    "            the\n",
    "            BIM data or does not know how to use the BIM data, or when the BIM data is temporary or\n",
    "            irrelevant for any reason. In this scenario, it may be useful to specify the reason why\n",
    "            no\n",
    "            further audits will take place. This is the contractual equivalent to \"this page is\n",
    "            intentionally left blank\".\n",
    "        \n",
    "        '''\n",
    "        pass\n",
    "\n",
    "    def guid(self):\n",
    "        '''\n",
    "        Scenario: Project metadata is organised and correct\n",
    "\n",
    "        The project must have an identifier of \"{guid}\"\n",
    "        \n",
    "        Example: \n",
    "            The project must have an identifier of \"28q3AgmxP5cepIweO5Of$o\"\n",
    "        \n",
    "        Description: \n",
    "            This is a 22 character GlobalId for a particular IFC element.\n",
    "        '''\n",
    "        pass\n",
    "    \n",
    "    def name(self):\n",
    "        '''\n",
    "        Scenario: Project metadata is organised and correct\n",
    "\n",
    "        The project name, code, or short identifier must be \"{name}\"\n",
    "        \n",
    "        Example: \n",
    "            The project name, code, or short identifier must be \"123FOO\"\n",
    "        \n",
    "        Description: \n",
    "            A short project code or name used to uniquely identify the project, either \n",
    "            specified by the client or the BIM author\n",
    "        '''\n",
    "        pass\n",
    "\n",
    "    def long_name(self):\n",
    "        '''\n",
    "        Scenario: Project metadata is organised and correct\n",
    "        \n",
    "        The project must have a longer form name of \"{long_name}\"\n",
    "        \n",
    "        Example: \n",
    "            The project must have a longer form name of \"123 Foo Street, Tower B Redevelopment\"\n",
    "        \n",
    "        Description: \n",
    "            The full project name used to uniquely identify the project, either \n",
    "            specified by the client or the BIM author\n",
    "        '''\n",
    "        pass\n",
    "\n",
    "    def description(self):\n",
    "        '''\n",
    "        Scenario: Project metadata is organised and correct\n",
    "        \n",
    "        The project must be described as \"{description}\"\n",
    "        \n",
    "        Example:\n",
    "            The project must be described as \"Redesign of southwest atrium of Tower B\n",
    "            to a two-storey space with new interior fitout\"\n",
    "        \n",
    "        Description:\n",
    "            A description of what the project is about, to help clarify the project scope.\n",
    "        '''\n",
    "        pass\n",
    "\n",
    "    def object_type(self):\n",
    "        '''\n",
    "        Scenario: Project metadata is organised and correct\n",
    "\n",
    "        The project must be categorised under \"{object_type}\"\n",
    "        \n",
    "        Example:\n",
    "            The project must be categorised under \"Commercial\"\n",
    "        \n",
    "        Description:\n",
    "            If the project is categorised as a particular arbitrary type, it may be described \n",
    "            here. Example categories could be \"Residential\", \"Retail\", \"Commercial\", \"Health\"\n",
    "            and \"Defence\". Alternatively, it could be categorised as \"Civic\", \"Infrastructure\".\n",
    "        '''\n",
    "        pass\n",
    "\n",
    "    def phase(self):\n",
    "        '''\n",
    "        Scenario: Project metadata is organised and correct\n",
    "        \n",
    "        The project must contain information about the \"{phase}\" phase\n",
    "        \n",
    "        Example:\n",
    "            The project must contain information about the \"A\" phase\n",
    "        \n",
    "        Description:\n",
    "            If the project is phased or staged, the phase or stage name may be placed here.\n",
    "        '''\n",
    "        pass"
   ]
  },
  {
   "cell_type": "code",
   "execution_count": 115,
   "metadata": {},
   "outputs": [],
   "source": [
    "def get_methods(class_Name):\n",
    "    members = inspect.getmembers(class_Name, predicate=inspect.isfunction)\n",
    "    function_calls = list(map(lambda z: z[1], members))\n",
    "    return function_calls\n",
    "\n",
    "def text(s):\n",
    "    return ' '.join(s.split())\n",
    "\n",
    "def split_text()\n",
    "\n",
    "def format_text(class_Name):\n",
    "    function_calls = get_methods(class_Name)\n",
    "\n",
    "    for call in function_calls:\n",
    "        print(list(map(text, inspect.getdoc(call).split('\\n\\n'))))"
   ]
  },
  {
   "cell_type": "code",
   "execution_count": 199,
   "metadata": {},
   "outputs": [],
   "source": [
    "class Formatter:\n",
    "    def __init__(self):\n",
    "        self.start_html = '\"<code contenteditable>'\n",
    "        self.end_html = '</code>\"'\n",
    "\n",
    "    def get_methods(self, class_name):\n",
    "        members = inspect.getmembers(class_name, predicate=inspect.isfunction)\n",
    "        function_calls = list(map(lambda z: z[1], members))\n",
    "        return function_calls\n",
    "    \n",
    "    def remove_new_lines(self, text):\n",
    "        return ' '.join(text.split())\n",
    "\n",
    "    def add_html_tag(self, text):\n",
    "        s_idx, e_idx = re.search('\"([^\"]*)\"', text).span()\n",
    "        html_text = text[: start] + self.start_html + text[start: end] + self.end_html + text[end: ]\n",
    "        return html_text\n",
    "\n",
    "    def style_doc(self, data):\n",
    "        Scenario = data[0].split(' ', 1)[1]\n",
    "        Text = self.add_html_tag(data[1])\n",
    "        Example = data[2].split(' ', 1)[1]\n",
    "        Description = data[3].split(' ', 1)[1]\n",
    "\n",
    "        return Scenario, Text, Example, Description\n",
    "    \n",
    "    def format(self, class_name):\n",
    "        fun_calls = self.get_methods(class_name)\n",
    "\n",
    "        Final_Docs = defaultdict(list)\n",
    "        for call in fun_calls:\n",
    "            docs = inspect.getdoc(call).split('\\n\\n')\n",
    "            docs_list = list(map(self.remove_new_lines, docs))\n",
    "            scen, text, example, description = self.style_doc(docs_list)\n",
    "            \n",
    "            Final_Docs[scen].append((text, example, description))\n",
    "        return Final_Docs"
   ]
  },
  {
   "cell_type": "code",
   "execution_count": 200,
   "metadata": {},
   "outputs": [],
   "source": [
    "f = Formatter()"
   ]
  },
  {
   "cell_type": "code",
   "execution_count": 201,
   "metadata": {},
   "outputs": [
    {
     "output_type": "execute_result",
     "data": {
      "text/plain": [
       "defaultdict(list,\n",
       "            {'Project metadata is organised and correct': [('The project must be described as \"<code contenteditable>\"{description}\"</code>\"',\n",
       "               'The project must be described as \"Redesign of southwest atrium of Tower B to a two-storey space with new interior fitout\"',\n",
       "               'A description of what the project is about, to help clarify the project scope.'),\n",
       "              ('The project must have an identifi\"<code contenteditable>er of \"{guid}\"</code>\"',\n",
       "               'The project must have an identifier of \"28q3AgmxP5cepIweO5Of$o\"',\n",
       "               'This is a 22 character GlobalId for a particular IFC element.'),\n",
       "              ('The project must have a longer fo\"<code contenteditable>rm name of \"{lo</code>\"ng_name}\"',\n",
       "               'The project must have a longer form name of \"123 Foo Street, Tower B Redevelopment\"',\n",
       "               'The full project name used to uniquely identify the project, either specified by the client or the BIM author'),\n",
       "              ('The project name, code, or short \"<code contenteditable>identifier must</code>\" be \"{name}\"',\n",
       "               'The project name, code, or short identifier must be \"123FOO\"',\n",
       "               'A short project code or name used to uniquely identify the project, either specified by the client or the BIM author'),\n",
       "              ('The project must be categorised u\"<code contenteditable>nder \"{object_t</code>\"ype}\"',\n",
       "               'The project must be categorised under \"Commercial\"',\n",
       "               'If the project is categorised as a particular arbitrary type, it may be described here. Example categories could be \"Residential\", \"Retail\", \"Commercial\", \"Health\" and \"Defence\". Alternatively, it could be categorised as \"Civic\", \"Infrastructure\".'),\n",
       "              ('The project must contain informat\"<code contenteditable>ion about the \"</code>\"{phase}\" phase',\n",
       "               'The project must contain information about the \"A\" phase',\n",
       "               'If the project is phased or staged, the phase or stage name may be placed here.')],\n",
       "             'Exempt files': [('The IFC file \"{file}\" is exempt f\"<code contenteditable>rom being provi</code>\"ded',\n",
       "               'The IFC file \"PROJECT.ifc\" is exempt from being provided',\n",
       "               'Sometimes, projects may create BIM data that is purely temporary, or as a workaround that is needed as part of their workflow, but not required from a contractual perspective. In this case, it is advisable for the requirements to explicitly exclude these BIM files so that the client knows what is included in the scope of requirements. Simply specify the name of the file that you know is not required as a deliverable.'),\n",
       "              ('No further requirements are speci\"<code contenteditable>fied because \"{</code>\"reason}\"',\n",
       "               'No further requirements are specified because \"it will be superseded in a future project phase\"',\n",
       "               'The recipient may not necessarily wish to specify more BIM requirements to audit. Scenarios when this is the case may be when the recipient does not have processes in place to use the BIM data or does not know how to use the BIM data, or when the BIM data is temporary or irrelevant for any reason. In this scenario, it may be useful to specify the reason why no further audits will take place. This is the contractual equivalent to \"this page is intentionally left blank\".')],\n",
       "             'Receiving a file': [('The data must use the \"{schema}\" \"<code contenteditable>schema</code>\"',\n",
       "               'The data must use the \"IFC4\" schema',\n",
       "               'BIM data may be structured using a particular version of IFC, known as the \"schema\" version. Newer versions add lots of capabilities like extra parameters, new data relationships, and improved data classification. The version you choose will affect what data can be stored, and which programs have support for reading and writing that version. At the moment, you are likely to specify either \"IFC2X3\" or \"IFC4\".')]})"
      ]
     },
     "metadata": {},
     "execution_count": 201
    }
   ],
   "source": [
    "f.format(ProjectSetup)"
   ]
  },
  {
   "cell_type": "code",
   "execution_count": 189,
   "metadata": {},
   "outputs": [],
   "source": [
    "d = {'1': 1}"
   ]
  },
  {
   "cell_type": "code",
   "execution_count": 193,
   "metadata": {},
   "outputs": [],
   "source": [
    "d.get('2')"
   ]
  },
  {
   "cell_type": "code",
   "execution_count": 205,
   "metadata": {},
   "outputs": [],
   "source": [
    "x = defaultdict(list)"
   ]
  },
  {
   "cell_type": "code",
   "execution_count": 206,
   "metadata": {},
   "outputs": [],
   "source": [
    "x[1] = [1, 2, 3]\n",
    "x[2] = [1, 2]\n",
    "x[3] = [1]"
   ]
  },
  {
   "cell_type": "code",
   "execution_count": 215,
   "metadata": {},
   "outputs": [
    {
     "output_type": "error",
     "ename": "TypeError",
     "evalue": "first argument must be callable or None",
     "traceback": [
      "\u001b[1;31m---------------------------------------------------------------------------\u001b[0m",
      "\u001b[1;31mTypeError\u001b[0m                                 Traceback (most recent call last)",
      "\u001b[1;32m<ipython-input-215-3f52a0637fa1>\u001b[0m in \u001b[0;36m<module>\u001b[1;34m\u001b[0m\n\u001b[1;32m----> 1\u001b[1;33m \u001b[0mdefaultdict\u001b[0m\u001b[1;33m(\u001b[0m\u001b[0msorted\u001b[0m\u001b[1;33m(\u001b[0m\u001b[0mx\u001b[0m\u001b[1;33m.\u001b[0m\u001b[0mitems\u001b[0m\u001b[1;33m(\u001b[0m\u001b[1;33m)\u001b[0m\u001b[1;33m,\u001b[0m \u001b[0mkey\u001b[0m\u001b[1;33m=\u001b[0m\u001b[1;32mlambda\u001b[0m \u001b[0mz\u001b[0m\u001b[1;33m:\u001b[0m \u001b[0mlen\u001b[0m\u001b[1;33m(\u001b[0m\u001b[0mz\u001b[0m\u001b[1;33m[\u001b[0m\u001b[1;36m1\u001b[0m\u001b[1;33m]\u001b[0m\u001b[1;33m)\u001b[0m\u001b[1;33m)\u001b[0m\u001b[1;33m)\u001b[0m\u001b[1;33m\u001b[0m\u001b[1;33m\u001b[0m\u001b[0m\n\u001b[0m",
      "\u001b[1;31mTypeError\u001b[0m: first argument must be callable or None"
     ]
    }
   ],
   "source": [
    "defaultdict(sorted(x.items(), key=lambda z: len(z[1])))"
   ]
  },
  {
   "cell_type": "code",
   "execution_count": 213,
   "metadata": {},
   "outputs": [
    {
     "output_type": "execute_result",
     "data": {
      "text/plain": [
       "defaultdict(list, {1: [1, 2, 3], 2: [1, 2], 3: [1]})"
      ]
     },
     "metadata": {},
     "execution_count": 213
    }
   ],
   "source": [
    "x"
   ]
  },
  {
   "cell_type": "code",
   "execution_count": 1,
   "metadata": {},
   "outputs": [],
   "source": [
    "text = 'hell0, my name is \"Harsh Hi\"'"
   ]
  },
  {
   "cell_type": "code",
   "execution_count": 4,
   "metadata": {},
   "outputs": [
    {
     "output_type": "execute_result",
     "data": {
      "text/plain": [
       "'hell0, my name is \"Harsh Hi\"'"
      ]
     },
     "metadata": {},
     "execution_count": 4
    }
   ],
   "source": [
    "' '.join(text.split(' '))"
   ]
  },
  {
   "cell_type": "code",
   "execution_count": 42,
   "metadata": {},
   "outputs": [],
   "source": [
    "t = 'The site \"{guid}\" has an elevation of \"{number}\"'"
   ]
  },
  {
   "cell_type": "code",
   "execution_count": 43,
   "metadata": {},
   "outputs": [],
   "source": [
    "for text in re.findall('\"([^\"]*)\"', t):\n",
    "    t = t.replace(text, f'{a}\"{text}\"{b}')"
   ]
  },
  {
   "cell_type": "code",
   "execution_count": 44,
   "metadata": {},
   "outputs": [
    {
     "output_type": "execute_result",
     "data": {
      "text/plain": [
       "'The site \"1\"{guid}\"2\" has an elevation of \"1\"{number}\"2\"'"
      ]
     },
     "metadata": {},
     "execution_count": 44
    }
   ],
   "source": [
    "t"
   ]
  },
  {
   "cell_type": "code",
   "execution_count": null,
   "metadata": {},
   "outputs": [],
   "source": []
  }
 ]
}